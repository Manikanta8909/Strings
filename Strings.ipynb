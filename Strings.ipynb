{
 "cells": [
  {
   "cell_type": "markdown",
   "id": "51eeb552",
   "metadata": {},
   "source": [
    "# Strings "
   ]
  },
  {
   "cell_type": "code",
   "execution_count": 1,
   "id": "9b24dbc7",
   "metadata": {},
   "outputs": [
    {
     "name": "stdout",
     "output_type": "stream",
     "text": [
      "it is raining\n",
      "it is raining\n",
      "it is raining, \n",
      "we will go out,\n",
      "and samosa.\n"
     ]
    }
   ],
   "source": [
    "#Strings in python are surrounded by either single quotation marks, or double quotation marks.\n",
    "\n",
    "s1= 'it is raining' #single line quote\n",
    "s2= \"it is raining\" #double line quote\n",
    "s3='''it is raining, \n",
    "we will go out,\n",
    "and samosa.''' #Multiline quote\n",
    "print(s1, s2, s3, sep='\\n')"
   ]
  },
  {
   "cell_type": "markdown",
   "id": "ac8e4a10",
   "metadata": {},
   "source": [
    "### Concatenation"
   ]
  },
  {
   "cell_type": "code",
   "execution_count": 2,
   "id": "cce0e736",
   "metadata": {},
   "outputs": [
    {
     "name": "stdout",
     "output_type": "stream",
     "text": [
      "Hyper-link\n"
     ]
    }
   ],
   "source": [
    "a= 'Hyper'\n",
    "b= 'link'\n",
    "c = a + '-' +b\n",
    "print (c)"
   ]
  },
  {
   "cell_type": "code",
   "execution_count": 3,
   "id": "904b5649",
   "metadata": {},
   "outputs": [
    {
     "data": {
      "text/plain": [
       "('LogitechLogitechLogitech', 'LogitechLogitech')"
      ]
     },
     "execution_count": 3,
     "metadata": {},
     "output_type": "execute_result"
    }
   ],
   "source": [
    "v= 'Logitech'\n",
    "v*3,v+v"
   ]
  },
  {
   "cell_type": "code",
   "execution_count": 4,
   "id": "372b1b9e",
   "metadata": {},
   "outputs": [
    {
     "data": {
      "text/plain": [
       "'google mo sl'"
      ]
     },
     "execution_count": 4,
     "metadata": {},
     "output_type": "execute_result"
    }
   ],
   "source": [
    "x = 'google class room'\n",
    "x[:7]+x[-1:-10:-2]"
   ]
  },
  {
   "cell_type": "code",
   "execution_count": 5,
   "id": "3edc7623",
   "metadata": {},
   "outputs": [
    {
     "data": {
      "text/plain": [
       "(False, True)"
      ]
     },
     "execution_count": 5,
     "metadata": {},
     "output_type": "execute_result"
    }
   ],
   "source": [
    "x ='Scan the QR Code'\n",
    "'scan' in x,'Scan' in x"
   ]
  },
  {
   "cell_type": "markdown",
   "id": "0b72adea",
   "metadata": {},
   "source": [
    "<mark>Mutable objects are those that allow you to change their value or data in place without affecting the object's identity.</mark>\n",
    "\n",
    "\n",
    "<mark>Immutable data types are those, whose values cannot be modified once they are created.</mark>\n"
   ]
  },
  {
   "cell_type": "markdown",
   "id": "f97084c0",
   "metadata": {},
   "source": [
    "### Indexing"
   ]
  },
  {
   "cell_type": "code",
   "execution_count": 6,
   "id": "1def5dea",
   "metadata": {},
   "outputs": [
    {
     "name": "stdout",
     "output_type": "stream",
     "text": [
      "jptrnt ok\n",
      "er note bo\n"
     ]
    }
   ],
   "source": [
    "#positive indexing\n",
    "x='jupyter note book'\n",
    "print(x[:len(x):2], x[5:15:1], sep='\\n') "
   ]
  },
  {
   "cell_type": "code",
   "execution_count": 7,
   "id": "6e356046",
   "metadata": {},
   "outputs": [
    {
     "name": "stdout",
     "output_type": "stream",
     "text": [
      "koob eton retypuj\n",
      " tnrtpj\n"
     ]
    }
   ],
   "source": [
    "#negative indexing\n",
    "x='jupyter note book'\n",
    "print(x[::-1], x[-5:-18:-2],sep='\\n')"
   ]
  },
  {
   "cell_type": "markdown",
   "id": "06e5f75e",
   "metadata": {},
   "source": [
    "### Methods in string "
   ]
  },
  {
   "cell_type": "code",
   "execution_count": 8,
   "id": "6f3d04cf",
   "metadata": {},
   "outputs": [
    {
     "data": {
      "text/plain": [
       "['__add__',\n",
       " '__class__',\n",
       " '__contains__',\n",
       " '__delattr__',\n",
       " '__dir__',\n",
       " '__doc__',\n",
       " '__eq__',\n",
       " '__format__',\n",
       " '__ge__',\n",
       " '__getattribute__',\n",
       " '__getitem__',\n",
       " '__getnewargs__',\n",
       " '__getstate__',\n",
       " '__gt__',\n",
       " '__hash__',\n",
       " '__init__',\n",
       " '__init_subclass__',\n",
       " '__iter__',\n",
       " '__le__',\n",
       " '__len__',\n",
       " '__lt__',\n",
       " '__mod__',\n",
       " '__mul__',\n",
       " '__ne__',\n",
       " '__new__',\n",
       " '__reduce__',\n",
       " '__reduce_ex__',\n",
       " '__repr__',\n",
       " '__rmod__',\n",
       " '__rmul__',\n",
       " '__setattr__',\n",
       " '__sizeof__',\n",
       " '__str__',\n",
       " '__subclasshook__',\n",
       " 'capitalize',\n",
       " 'casefold',\n",
       " 'center',\n",
       " 'count',\n",
       " 'encode',\n",
       " 'endswith',\n",
       " 'expandtabs',\n",
       " 'find',\n",
       " 'format',\n",
       " 'format_map',\n",
       " 'index',\n",
       " 'isalnum',\n",
       " 'isalpha',\n",
       " 'isascii',\n",
       " 'isdecimal',\n",
       " 'isdigit',\n",
       " 'isidentifier',\n",
       " 'islower',\n",
       " 'isnumeric',\n",
       " 'isprintable',\n",
       " 'isspace',\n",
       " 'istitle',\n",
       " 'isupper',\n",
       " 'join',\n",
       " 'ljust',\n",
       " 'lower',\n",
       " 'lstrip',\n",
       " 'maketrans',\n",
       " 'partition',\n",
       " 'removeprefix',\n",
       " 'removesuffix',\n",
       " 'replace',\n",
       " 'rfind',\n",
       " 'rindex',\n",
       " 'rjust',\n",
       " 'rpartition',\n",
       " 'rsplit',\n",
       " 'rstrip',\n",
       " 'split',\n",
       " 'splitlines',\n",
       " 'startswith',\n",
       " 'strip',\n",
       " 'swapcase',\n",
       " 'title',\n",
       " 'translate',\n",
       " 'upper',\n",
       " 'zfill']"
      ]
     },
     "execution_count": 8,
     "metadata": {},
     "output_type": "execute_result"
    }
   ],
   "source": [
    "dir(x)"
   ]
  },
  {
   "cell_type": "code",
   "execution_count": 9,
   "id": "4c422665",
   "metadata": {},
   "outputs": [
    {
     "data": {
      "text/plain": [
       "'THE BRAVE MAN GOT!!!!  KILLED?'"
      ]
     },
     "execution_count": 9,
     "metadata": {},
     "output_type": "execute_result"
    }
   ],
   "source": [
    "#upper()\n",
    "m= 'the BRAVE man got!!!!  killed?'\n",
    "m.upper()                             #All the letter turns into upper case "
   ]
  },
  {
   "cell_type": "code",
   "execution_count": 10,
   "id": "15da55c6",
   "metadata": {},
   "outputs": [
    {
     "data": {
      "text/plain": [
       "'the brave man got!!!!  killed?'"
      ]
     },
     "execution_count": 10,
     "metadata": {},
     "output_type": "execute_result"
    }
   ],
   "source": [
    "#lower()\n",
    "m.lower()                           #All the letter turns into lower case"
   ]
  },
  {
   "cell_type": "code",
   "execution_count": 11,
   "id": "9100b9d7",
   "metadata": {},
   "outputs": [
    {
     "data": {
      "text/plain": [
       "'The Brave Man Got!!!!  Killed?'"
      ]
     },
     "execution_count": 11,
     "metadata": {},
     "output_type": "execute_result"
    }
   ],
   "source": [
    "#title()\n",
    "m.title()                            #letters before space/any numbers are turns into upper case"
   ]
  },
  {
   "cell_type": "code",
   "execution_count": 12,
   "id": "f2eb3031",
   "metadata": {},
   "outputs": [
    {
     "data": {
      "text/plain": [
       "'THE brave MAN GOT!!!!  KILLED?'"
      ]
     },
     "execution_count": 12,
     "metadata": {},
     "output_type": "execute_result"
    }
   ],
   "source": [
    "#swapcase()\n",
    "m.swapcase()                         #All letters that are lower turns into upper and upeercase turns into lowercase"
   ]
  },
  {
   "cell_type": "code",
   "execution_count": 13,
   "id": "a8e6033d",
   "metadata": {},
   "outputs": [
    {
     "data": {
      "text/plain": [
       "'The brave man got!!!!  killed?'"
      ]
     },
     "execution_count": 13,
     "metadata": {},
     "output_type": "execute_result"
    }
   ],
   "source": [
    "#capitalize()\n",
    "m.capitalize()                       #the first letter turns upper case."
   ]
  },
  {
   "cell_type": "code",
   "execution_count": 14,
   "id": "20baf16f",
   "metadata": {},
   "outputs": [
    {
     "data": {
      "text/plain": [
       "'the BRAVE woman got!!!!  killed?'"
      ]
     },
     "execution_count": 14,
     "metadata": {},
     "output_type": "execute_result"
    }
   ],
   "source": [
    "#replace()\n",
    "m.replace('man','woman')            #replace letters or words in sentence "
   ]
  },
  {
   "cell_type": "code",
   "execution_count": 15,
   "id": "b6b0389d",
   "metadata": {},
   "outputs": [
    {
     "data": {
      "text/plain": [
       "104"
      ]
     },
     "execution_count": 15,
     "metadata": {},
     "output_type": "execute_result"
    }
   ],
   "source": [
    "#order()\n",
    "ord('h')                                 #gives the numbers every letter and other charters"
   ]
  },
  {
   "cell_type": "code",
   "execution_count": 16,
   "id": "f9d6105d",
   "metadata": {},
   "outputs": [
    {
     "name": "stdout",
     "output_type": "stream",
     "text": [
      "65\n",
      "A\n"
     ]
    }
   ],
   "source": [
    "print(ord('A'))\n",
    "print(chr(ord('a')-32))"
   ]
  }
 ],
 "metadata": {
  "kernelspec": {
   "display_name": "Python 3 (ipykernel)",
   "language": "python",
   "name": "python3"
  },
  "language_info": {
   "codemirror_mode": {
    "name": "ipython",
    "version": 3
   },
   "file_extension": ".py",
   "mimetype": "text/x-python",
   "name": "python",
   "nbconvert_exporter": "python",
   "pygments_lexer": "ipython3",
   "version": "3.11.3"
  }
 },
 "nbformat": 4,
 "nbformat_minor": 5
}
